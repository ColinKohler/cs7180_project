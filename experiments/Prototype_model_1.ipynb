{
 "cells": [
  {
   "cell_type": "code",
   "execution_count": 1,
   "metadata": {},
   "outputs": [],
   "source": [
    "import os\n",
    "import numpy as np\n",
    "import numpy.random as npr\n",
    "import matplotlib.pyplot as plt\n",
    "\n",
    "import torch\n",
    "import torch.nn as nn\n",
    "import torch.nn.functional as F\n",
    "from torch.autograd import Variable"
   ]
  },
  {
   "cell_type": "code",
   "execution_count": 5,
   "metadata": {},
   "outputs": [],
   "source": [
    "class QueryEncoder(nn.Module):\n",
    "    def __init__(self, input_size, hidden_size, embed_size):\n",
    "        super(QueryEncoder, self).__init__()\n",
    "        \n",
    "        # Word to Vector Embedding\n",
    "        self.encoder = nn.Embedding(input_size, embed_size)\n",
    "        \n",
    "        # LSTMs\n",
    "        \n",
    "    def forward(self, x):\n",
    "        pass\n",
    "    \n",
    "class ContextEncoder(nn.Module):\n",
    "    def __init__(self):\n",
    "        super(ContextEncoder, self).__init__()\n",
    "        \n",
    "        # CNNs\n",
    "        \n",
    "    def forward(self, x):\n",
    "        pass\n",
    "\n",
    "class MasterPolicy(nn.Module):\n",
    "    def __init__(self, input_size, hidden_size):\n",
    "        super(MasterPolicy, self).__init__()\n",
    "        \n",
    "        self.hidden_size = hidden_size\n",
    "        \n",
    "        # Define weights here\n",
    "    \n",
    "    def forward(self, x):\n",
    "        pass\n",
    "\n",
    "class E2E_RNMN(torch.nn.Module):\n",
    "    def __init__(self):\n",
    "        super(E2E_RNMN, self).__init__()\n",
    "        \n",
    "        self.query_encoder = QueryEncoder(1, 1, 1)\n",
    "        self.context_encoder = ContextEncoder()\n",
    "        self.master_policy = MasterPolicy(1, 1)\n",
    "        self.modules = list()\n",
    "    \n",
    "    def forward(self, query, context):\n",
    "        pass"
   ]
  },
  {
   "cell_type": "code",
   "execution_count": 6,
   "metadata": {},
   "outputs": [],
   "source": [
    "# Set hyperparams and load dataset\n",
    "lr = 1e-4\n",
    "batch_size = 64"
   ]
  },
  {
   "cell_type": "code",
   "execution_count": 7,
   "metadata": {},
   "outputs": [],
   "source": [
    "# Init model\n",
    "model = E2E_RNMN()\n",
    "#criterion = torch.optim.Adam(model.parameters())"
   ]
  },
  {
   "cell_type": "code",
   "execution_count": null,
   "metadata": {},
   "outputs": [],
   "source": []
  }
 ],
 "metadata": {
  "kernelspec": {
   "display_name": "Python 3",
   "language": "python",
   "name": "python3"
  },
  "language_info": {
   "codemirror_mode": {
    "name": "ipython",
    "version": 3
   },
   "file_extension": ".py",
   "mimetype": "text/x-python",
   "name": "python",
   "nbconvert_exporter": "python",
   "pygments_lexer": "ipython3",
   "version": "3.6.6"
  }
 },
 "nbformat": 4,
 "nbformat_minor": 2
}
